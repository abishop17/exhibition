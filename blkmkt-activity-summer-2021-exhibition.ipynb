{
 "cells": [
  {
   "cell_type": "markdown",
   "metadata": {},
   "source": [
    "## BLKMKT Activity during BlkArthouse Summer 2021 Exhibition"
   ]
  },
  {
   "cell_type": "code",
   "execution_count": 26,
   "metadata": {},
   "outputs": [],
   "source": [
    "# Import the libraries we need for basic EDA\n",
    "import pandas as pd\n",
    "import matplotlib.pyplot as plt\n",
    "\n",
    "from IPython.display import Markdown\n",
    "# pseudo-markdown in code cells\n",
    "def printmd(string):\n",
    "    display(Markdown(string))\n",
    "# ref: https://discuss.analyticsvidhya.com/t/how-to-make-a-text-bold-within-print-statement-in-ipython-notebook/14552/2"
   ]
  },
  {
   "cell_type": "code",
   "execution_count": 8,
   "metadata": {},
   "outputs": [
    {
     "data": {
      "text/html": [
       "<div>\n",
       "<style scoped>\n",
       "    .dataframe tbody tr th:only-of-type {\n",
       "        vertical-align: middle;\n",
       "    }\n",
       "\n",
       "    .dataframe tbody tr th {\n",
       "        vertical-align: top;\n",
       "    }\n",
       "\n",
       "    .dataframe thead th {\n",
       "        text-align: right;\n",
       "    }\n",
       "</style>\n",
       "<table border=\"1\" class=\"dataframe\">\n",
       "  <thead>\n",
       "    <tr style=\"text-align: right;\">\n",
       "      <th></th>\n",
       "      <th>day</th>\n",
       "      <th>hour_of_day</th>\n",
       "      <th>page_type</th>\n",
       "      <th>page_path</th>\n",
       "      <th>page_resource_id</th>\n",
       "      <th>page_url</th>\n",
       "      <th>location_city</th>\n",
       "      <th>location_region</th>\n",
       "      <th>location_country</th>\n",
       "      <th>marketing_event_type</th>\n",
       "      <th>...</th>\n",
       "      <th>day_of_week</th>\n",
       "      <th>total_visitors</th>\n",
       "      <th>total_sessions</th>\n",
       "      <th>avg_duration</th>\n",
       "      <th>total_bounce_rate</th>\n",
       "      <th>total_carts</th>\n",
       "      <th>total_checkouts</th>\n",
       "      <th>total_conversion</th>\n",
       "      <th>total_orders_placed</th>\n",
       "      <th>total_pageviews</th>\n",
       "    </tr>\n",
       "  </thead>\n",
       "  <tbody>\n",
       "    <tr>\n",
       "      <th>0</th>\n",
       "      <td>2021-06-25</td>\n",
       "      <td>20</td>\n",
       "      <td>Product</td>\n",
       "      <td>/products/afrofuturism-meets-ai-ii</td>\n",
       "      <td>7.050873e+12</td>\n",
       "      <td>https://blkartmkt.com/products/afrofuturism-me...</td>\n",
       "      <td>Kensington</td>\n",
       "      <td>Maryland</td>\n",
       "      <td>United States</td>\n",
       "      <td>NaN</td>\n",
       "      <td>...</td>\n",
       "      <td>Friday</td>\n",
       "      <td>5</td>\n",
       "      <td>5</td>\n",
       "      <td>4m3.6s</td>\n",
       "      <td>0.20</td>\n",
       "      <td>1</td>\n",
       "      <td>1</td>\n",
       "      <td>0.2</td>\n",
       "      <td>1</td>\n",
       "      <td>22</td>\n",
       "    </tr>\n",
       "    <tr>\n",
       "      <th>1</th>\n",
       "      <td>2021-06-25</td>\n",
       "      <td>20</td>\n",
       "      <td>Product</td>\n",
       "      <td>/products/afobaje</td>\n",
       "      <td>7.050851e+12</td>\n",
       "      <td>https://blkartmkt.com/products/afobaje</td>\n",
       "      <td>Alexandria</td>\n",
       "      <td>Virginia</td>\n",
       "      <td>United States</td>\n",
       "      <td>NaN</td>\n",
       "      <td>...</td>\n",
       "      <td>Friday</td>\n",
       "      <td>4</td>\n",
       "      <td>4</td>\n",
       "      <td>5m36.25s</td>\n",
       "      <td>0.50</td>\n",
       "      <td>0</td>\n",
       "      <td>0</td>\n",
       "      <td>0.0</td>\n",
       "      <td>0</td>\n",
       "      <td>11</td>\n",
       "    </tr>\n",
       "    <tr>\n",
       "      <th>2</th>\n",
       "      <td>2021-06-25</td>\n",
       "      <td>20</td>\n",
       "      <td>Product</td>\n",
       "      <td>/products/reality</td>\n",
       "      <td>7.035170e+12</td>\n",
       "      <td>https://blkartmkt.com/products/reality</td>\n",
       "      <td>Alexandria</td>\n",
       "      <td>Virginia</td>\n",
       "      <td>United States</td>\n",
       "      <td>NaN</td>\n",
       "      <td>...</td>\n",
       "      <td>Friday</td>\n",
       "      <td>4</td>\n",
       "      <td>4</td>\n",
       "      <td>1m8.5s</td>\n",
       "      <td>0.75</td>\n",
       "      <td>0</td>\n",
       "      <td>0</td>\n",
       "      <td>0.0</td>\n",
       "      <td>0</td>\n",
       "      <td>6</td>\n",
       "    </tr>\n",
       "  </tbody>\n",
       "</table>\n",
       "<p>3 rows × 34 columns</p>\n",
       "</div>"
      ],
      "text/plain": [
       "         day  hour_of_day page_type                           page_path  \\\n",
       "0 2021-06-25           20   Product  /products/afrofuturism-meets-ai-ii   \n",
       "1 2021-06-25           20   Product                   /products/afobaje   \n",
       "2 2021-06-25           20   Product                   /products/reality   \n",
       "\n",
       "   page_resource_id                                           page_url  \\\n",
       "0      7.050873e+12  https://blkartmkt.com/products/afrofuturism-me...   \n",
       "1      7.050851e+12             https://blkartmkt.com/products/afobaje   \n",
       "2      7.035170e+12             https://blkartmkt.com/products/reality   \n",
       "\n",
       "  location_city location_region location_country marketing_event_type  ...  \\\n",
       "0    Kensington        Maryland    United States                  NaN  ...   \n",
       "1    Alexandria        Virginia    United States                  NaN  ...   \n",
       "2    Alexandria        Virginia    United States                  NaN  ...   \n",
       "\n",
       "  day_of_week total_visitors total_sessions avg_duration  total_bounce_rate  \\\n",
       "0      Friday              5              5       4m3.6s               0.20   \n",
       "1      Friday              4              4     5m36.25s               0.50   \n",
       "2      Friday              4              4       1m8.5s               0.75   \n",
       "\n",
       "  total_carts total_checkouts total_conversion total_orders_placed  \\\n",
       "0           1               1              0.2                   1   \n",
       "1           0               0              0.0                   0   \n",
       "2           0               0              0.0                   0   \n",
       "\n",
       "  total_pageviews  \n",
       "0              22  \n",
       "1              11  \n",
       "2               6  \n",
       "\n",
       "[3 rows x 34 columns]"
      ]
     },
     "execution_count": 8,
     "metadata": {},
     "output_type": "execute_result"
    }
   ],
   "source": [
    "# Bring in the sessions dataframe, preview it\n",
    "sessions = pd.read_excel('../data/sessions-by-landing-page_2021-06-25_2021-07-25.xlsx')\n",
    "sessions.head(3)"
   ]
  },
  {
   "cell_type": "code",
   "execution_count": 16,
   "metadata": {},
   "outputs": [
    {
     "data": {
      "text/plain": [
       "(1311, 34)"
      ]
     },
     "execution_count": 16,
     "metadata": {},
     "output_type": "execute_result"
    }
   ],
   "source": [
    "# Size (rows x columns)\n",
    "sessions.shape"
   ]
  },
  {
   "cell_type": "code",
   "execution_count": 9,
   "metadata": {},
   "outputs": [
    {
     "data": {
      "text/plain": [
       "Index(['day', 'hour_of_day', 'page_type', 'page_path', 'page_resource_id',\n",
       "       'page_url', 'location_city', 'location_region', 'location_country',\n",
       "       'marketing_event_type', 'utm_campaign_content', 'utm_campaign_medium',\n",
       "       'utm_campaign_name', 'utm_campaign_source', 'utm_campaign_term',\n",
       "       'referrer_url', 'referrer_source', 'referrer_path', 'referrer_name',\n",
       "       'referrer_host', 'hour', 'month', 'quarter', 'week', 'day_of_week',\n",
       "       'total_visitors', 'total_sessions', 'avg_duration', 'total_bounce_rate',\n",
       "       'total_carts', 'total_checkouts', 'total_conversion',\n",
       "       'total_orders_placed', 'total_pageviews'],\n",
       "      dtype='object')"
      ]
     },
     "execution_count": 9,
     "metadata": {},
     "output_type": "execute_result"
    }
   ],
   "source": [
    "# List column names\n",
    "sessions.columns"
   ]
  },
  {
   "cell_type": "markdown",
   "metadata": {},
   "source": [
    "### Let's break up the data into two time periods we're interested in comparing:\n",
    "#### 1. Days of opening weekend (`opening_wknd_df`)\n",
    "#### 2. The rest of exhibition runtime (`rest_of_runtime_df`)"
   ]
  },
  {
   "cell_type": "code",
   "execution_count": 32,
   "metadata": {},
   "outputs": [
    {
     "data": {
      "text/html": [
       "<div>\n",
       "<style scoped>\n",
       "    .dataframe tbody tr th:only-of-type {\n",
       "        vertical-align: middle;\n",
       "    }\n",
       "\n",
       "    .dataframe tbody tr th {\n",
       "        vertical-align: top;\n",
       "    }\n",
       "\n",
       "    .dataframe thead th {\n",
       "        text-align: right;\n",
       "    }\n",
       "</style>\n",
       "<table border=\"1\" class=\"dataframe\">\n",
       "  <thead>\n",
       "    <tr style=\"text-align: right;\">\n",
       "      <th></th>\n",
       "      <th>day</th>\n",
       "      <th>hour_of_day</th>\n",
       "      <th>page_type</th>\n",
       "      <th>page_path</th>\n",
       "      <th>page_resource_id</th>\n",
       "      <th>page_url</th>\n",
       "      <th>location_city</th>\n",
       "      <th>location_region</th>\n",
       "      <th>location_country</th>\n",
       "      <th>marketing_event_type</th>\n",
       "      <th>...</th>\n",
       "      <th>day_of_week</th>\n",
       "      <th>total_visitors</th>\n",
       "      <th>total_sessions</th>\n",
       "      <th>avg_duration</th>\n",
       "      <th>total_bounce_rate</th>\n",
       "      <th>total_carts</th>\n",
       "      <th>total_checkouts</th>\n",
       "      <th>total_conversion</th>\n",
       "      <th>total_orders_placed</th>\n",
       "      <th>total_pageviews</th>\n",
       "    </tr>\n",
       "  </thead>\n",
       "  <tbody>\n",
       "    <tr>\n",
       "      <th>0</th>\n",
       "      <td>2021-06-25</td>\n",
       "      <td>20</td>\n",
       "      <td>Product</td>\n",
       "      <td>/products/afrofuturism-meets-ai-ii</td>\n",
       "      <td>7.050873e+12</td>\n",
       "      <td>https://blkartmkt.com/products/afrofuturism-me...</td>\n",
       "      <td>Kensington</td>\n",
       "      <td>Maryland</td>\n",
       "      <td>United States</td>\n",
       "      <td>NaN</td>\n",
       "      <td>...</td>\n",
       "      <td>Friday</td>\n",
       "      <td>5</td>\n",
       "      <td>5</td>\n",
       "      <td>4m3.6s</td>\n",
       "      <td>0.2</td>\n",
       "      <td>1</td>\n",
       "      <td>1</td>\n",
       "      <td>0.2</td>\n",
       "      <td>1</td>\n",
       "      <td>22</td>\n",
       "    </tr>\n",
       "  </tbody>\n",
       "</table>\n",
       "<p>1 rows × 34 columns</p>\n",
       "</div>"
      ],
      "text/plain": [
       "         day  hour_of_day page_type                           page_path  \\\n",
       "0 2021-06-25           20   Product  /products/afrofuturism-meets-ai-ii   \n",
       "\n",
       "   page_resource_id                                           page_url  \\\n",
       "0      7.050873e+12  https://blkartmkt.com/products/afrofuturism-me...   \n",
       "\n",
       "  location_city location_region location_country marketing_event_type  ...  \\\n",
       "0    Kensington        Maryland    United States                  NaN  ...   \n",
       "\n",
       "  day_of_week total_visitors total_sessions avg_duration  total_bounce_rate  \\\n",
       "0      Friday              5              5       4m3.6s                0.2   \n",
       "\n",
       "  total_carts total_checkouts total_conversion total_orders_placed  \\\n",
       "0           1               1              0.2                   1   \n",
       "\n",
       "  total_pageviews  \n",
       "0              22  \n",
       "\n",
       "[1 rows x 34 columns]"
      ]
     },
     "metadata": {},
     "output_type": "display_data"
    },
    {
     "data": {
      "text/markdown": [
       "`opening_wknd_df` shape:"
      ],
      "text/plain": [
       "<IPython.core.display.Markdown object>"
      ]
     },
     "metadata": {},
     "output_type": "display_data"
    },
    {
     "data": {
      "text/plain": [
       "(595, 34)"
      ]
     },
     "execution_count": 32,
     "metadata": {},
     "output_type": "execute_result"
    }
   ],
   "source": [
    "# 1. Days of opening weekend\n",
    "opening_wknd = ['2021-06-25', '2021-06-26', '2021-06-27']\n",
    "\n",
    "opening_wknd_df = sessions[sessions['day'].isin(opening_wknd)]\n",
    "display(opening_wknd_df.head(1))\n",
    "printmd('`opening_wknd_df` shape:')\n",
    "opening_wknd_df.shape"
   ]
  },
  {
   "cell_type": "code",
   "execution_count": 43,
   "metadata": {},
   "outputs": [
    {
     "data": {
      "text/html": [
       "<div>\n",
       "<style scoped>\n",
       "    .dataframe tbody tr th:only-of-type {\n",
       "        vertical-align: middle;\n",
       "    }\n",
       "\n",
       "    .dataframe tbody tr th {\n",
       "        vertical-align: top;\n",
       "    }\n",
       "\n",
       "    .dataframe thead th {\n",
       "        text-align: right;\n",
       "    }\n",
       "</style>\n",
       "<table border=\"1\" class=\"dataframe\">\n",
       "  <thead>\n",
       "    <tr style=\"text-align: right;\">\n",
       "      <th></th>\n",
       "      <th>day</th>\n",
       "      <th>hour_of_day</th>\n",
       "      <th>page_type</th>\n",
       "      <th>page_path</th>\n",
       "      <th>page_resource_id</th>\n",
       "      <th>page_url</th>\n",
       "      <th>location_city</th>\n",
       "      <th>location_region</th>\n",
       "      <th>location_country</th>\n",
       "      <th>marketing_event_type</th>\n",
       "      <th>...</th>\n",
       "      <th>day_of_week</th>\n",
       "      <th>total_visitors</th>\n",
       "      <th>total_sessions</th>\n",
       "      <th>avg_duration</th>\n",
       "      <th>total_bounce_rate</th>\n",
       "      <th>total_carts</th>\n",
       "      <th>total_checkouts</th>\n",
       "      <th>total_conversion</th>\n",
       "      <th>total_orders_placed</th>\n",
       "      <th>total_pageviews</th>\n",
       "    </tr>\n",
       "  </thead>\n",
       "  <tbody>\n",
       "    <tr>\n",
       "      <th>595</th>\n",
       "      <td>2021-06-28</td>\n",
       "      <td>14</td>\n",
       "      <td>Homepage</td>\n",
       "      <td>NaN</td>\n",
       "      <td>NaN</td>\n",
       "      <td>https://blkartmkt.com/</td>\n",
       "      <td>Kansas City</td>\n",
       "      <td>Missouri</td>\n",
       "      <td>United States</td>\n",
       "      <td>NaN</td>\n",
       "      <td>...</td>\n",
       "      <td>Monday</td>\n",
       "      <td>1</td>\n",
       "      <td>1</td>\n",
       "      <td>39s</td>\n",
       "      <td>0.0</td>\n",
       "      <td>0</td>\n",
       "      <td>0</td>\n",
       "      <td>0.0</td>\n",
       "      <td>0</td>\n",
       "      <td>2</td>\n",
       "    </tr>\n",
       "  </tbody>\n",
       "</table>\n",
       "<p>1 rows × 34 columns</p>\n",
       "</div>"
      ],
      "text/plain": [
       "           day  hour_of_day page_type page_path  page_resource_id  \\\n",
       "595 2021-06-28           14  Homepage       NaN               NaN   \n",
       "\n",
       "                   page_url location_city location_region location_country  \\\n",
       "595  https://blkartmkt.com/   Kansas City        Missouri    United States   \n",
       "\n",
       "    marketing_event_type  ... day_of_week total_visitors total_sessions  \\\n",
       "595                  NaN  ...      Monday              1              1   \n",
       "\n",
       "    avg_duration  total_bounce_rate total_carts total_checkouts  \\\n",
       "595          39s                0.0           0               0   \n",
       "\n",
       "    total_conversion total_orders_placed total_pageviews  \n",
       "595              0.0                   0               2  \n",
       "\n",
       "[1 rows x 34 columns]"
      ]
     },
     "metadata": {},
     "output_type": "display_data"
    },
    {
     "data": {
      "text/markdown": [
       "`rest_of_runtime_df` shape:"
      ],
      "text/plain": [
       "<IPython.core.display.Markdown object>"
      ]
     },
     "metadata": {},
     "output_type": "display_data"
    },
    {
     "name": "stdout",
     "output_type": "stream",
     "text": [
      "(716, 34)\n",
      "\n",
      "Overall shape of data subsets adds up to shape of original dataframe\n"
     ]
    },
    {
     "data": {
      "text/plain": [
       "True"
      ]
     },
     "execution_count": 43,
     "metadata": {},
     "output_type": "execute_result"
    }
   ],
   "source": [
    "# 2. The rest of exhibition runtime\n",
    "rest_of_runtime_df = sessions[~sessions['day'].isin(opening_wknd)]\n",
    "display(rest_of_runtime_df.head(1))\n",
    "\n",
    "printmd('`rest_of_runtime_df` shape:')\n",
    "print(rest_of_runtime_df.shape)\n",
    "\n",
    "print('\\nOverall shape of data subsets adds up to shape of original dataframe')\n",
    "595+716 == sessions.shape[0]"
   ]
  },
  {
   "cell_type": "code",
   "execution_count": 37,
   "metadata": {},
   "outputs": [
    {
     "data": {
      "text/plain": [
       "True"
      ]
     },
     "execution_count": 37,
     "metadata": {},
     "output_type": "execute_result"
    }
   ],
   "source": []
  },
  {
   "cell_type": "code",
   "execution_count": null,
   "metadata": {},
   "outputs": [],
   "source": []
  },
  {
   "cell_type": "code",
   "execution_count": null,
   "metadata": {},
   "outputs": [],
   "source": []
  }
 ],
 "metadata": {
  "kernelspec": {
   "display_name": "Python 3",
   "language": "python",
   "name": "python3"
  },
  "language_info": {
   "codemirror_mode": {
    "name": "ipython",
    "version": 3
   },
   "file_extension": ".py",
   "mimetype": "text/x-python",
   "name": "python",
   "nbconvert_exporter": "python",
   "pygments_lexer": "ipython3",
   "version": "3.8.3"
  }
 },
 "nbformat": 4,
 "nbformat_minor": 4
}
